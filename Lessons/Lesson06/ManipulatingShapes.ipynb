{
 "cells": [
  {
   "cell_type": "markdown",
   "metadata": {},
   "source": [
    "<div>\n",
    "\n",
    "<p>\n",
    "<img align=left src=\"images/ckcslogo.png\">\n",
    "</p>\n",
    "\n",
    "---\n",
    "\n",
    "<p>\n",
    "<H1 align=left><a href=\"http://www.coolkidscodingschool.com\">Cool Kids Coding School</a></H1>\n",
    "<H2 align=left>Course: <strong>Graphics Programming</strong></H1>\n",
    "<H3 align=left>Lesson 6: <strong>Manipulating Shapes</strong></H3>\n",
    "</p>\n",
    "\n",
    "</div>\n",
    "\n",
    "---"
   ]
  },
  {
   "cell_type": "markdown",
   "metadata": {},
   "source": [
    "**Overview**\n",
    "+ Review previous lesson key points.\n",
    "+ Enhance our RenderShape function to draw more shapes.\n",
    "+ Identify the various manipulations we can do to a shape.\n",
    "+ Write the code to do each manipulation\n",
    "\n",
    "**Review previous lesson key points**\n",
    "\n",
    "In the previous lesson we created the definitions of two basic constructs that we will be using throughout this course.  We talked about the definition of a **Point** and a **LineSegment**.  We created a function **RenderShape** that can take a data structure and render the shape in the data structure."
   ]
  },
  {
   "cell_type": "markdown",
   "metadata": {},
   "source": [
    "### 1.0 Review"
   ]
  },
  {
   "cell_type": "markdown",
   "metadata": {},
   "source": [
    "In the last class we created two data structures, **Point** and **LineSegment**.  We discussed how a point held the x and y coordinates in a cartesian plane.  Then we discussed how a line segment was composed of two points.  "
   ]
  },
  {
   "cell_type": "code",
   "execution_count": 1,
   "metadata": {},
   "outputs": [
    {
     "name": "stdout",
     "output_type": "stream",
     "text": [
      "This is a point Point(x=1, y=5)\n",
      "This is my x coordinate 1\n",
      "This is my y coordinate 5\n"
     ]
    }
   ],
   "source": [
    "# Our definition of a Point has a x and y attribute\n",
    "import collections\n",
    "\n",
    "Point = collections.namedtuple('Point',['x','y'])\n",
    "my_point = Point(1,5)\n",
    "\n",
    "print('This is a point',my_point)\n",
    "print('This is my x coordinate', my_point.x)\n",
    "print('This is my y coordinate', my_point.y)"
   ]
  },
  {
   "cell_type": "code",
   "execution_count": 2,
   "metadata": {},
   "outputs": [
    {
     "name": "stdout",
     "output_type": "stream",
     "text": [
      "This is a line segment LineSegment(A=Point(x=0, y=0), B=Point(x=10, y=10))\n",
      "This is point A Point(x=0, y=0)\n",
      "This is point B Point(x=10, y=10)\n"
     ]
    }
   ],
   "source": [
    "# Our definition of a LineSegment has a point A and point B\n",
    "import collections\n",
    "\n",
    "LineSegment = collections.namedtuple('LineSegment',['A','B'])\n",
    "my_line = LineSegment(Point(0,0), Point(10,10))\n",
    "\n",
    "print('This is a line segment',my_line)\n",
    "print('This is point A', my_line.A)\n",
    "print('This is point B', my_line.B)"
   ]
  },
  {
   "cell_type": "markdown",
   "metadata": {},
   "source": [
    "#### Create a data structure that represents a simple shape\n",
    "\n",
    "A shape can be considered a collection of Points and/or LineSegments.  You can think of a simple drawing program as program that takes this collection and draws each object in the collection one after the other.\n"
   ]
  },
  {
   "cell_type": "code",
   "execution_count": 3,
   "metadata": {},
   "outputs": [],
   "source": [
    "# a data structure representing a shape\n",
    "my_shape = []\n",
    "\n",
    "# create 4 points\n",
    "pt1 = Point(0,0)\n",
    "pt2 = Point(100, 0)\n",
    "pt3 = Point(100, 100)\n",
    "pt4 = Point(0, 100)\n",
    "\n",
    "# create 4 line segments\n",
    "ls1 = LineSegment(pt1, pt2)\n",
    "ls2 = LineSegment(pt2, pt3)\n",
    "ls3 = LineSegment(pt3, pt4)\n",
    "ls4 = LineSegment(pt4, pt1)\n",
    "\n",
    "my_shape.append(ls1)\n",
    "my_shape.append(ls2)\n",
    "my_shape.append(ls3)\n",
    "my_shape.append(ls4)\n"
   ]
  },
  {
   "cell_type": "markdown",
   "metadata": {},
   "source": [
    "Finally we created a function called **RenderShape** that when given a data structure with line segments would draw the shape.\n",
    "\n",
    "```python\n",
    "# function to create a shape\n",
    "def RenderShape(shapecoll_):\n",
    "  for elt in shapecoll_:\n",
    "    turtle.goto(elt.A.x, elt.A.y)\n",
    "    turtle.goto(elt.B.x, elt.B.y)\n",
    "```"
   ]
  },
  {
   "cell_type": "markdown",
   "metadata": {},
   "source": [
    "### 2.0 Enhance RenderShape"
   ]
  },
  {
   "cell_type": "markdown",
   "metadata": {},
   "source": [
    "In this lesson we are going to start by enhancing the RenderShape function to draw more shapes.  \n",
    "\n",
    "This version of the function is fine to start out with, but does it have any shortcomings?  \n",
    "Can we make it better?\n",
    "\n",
    "+ what are we assuming about the pen status?  (what if the pen was up when we called the function)\n",
    "+ how do we add color to each line segment?\n",
    "+ what happens if we mix up the order of the line segments? (each line segment needs to define its pen status)\n",
    "\n",
    "We are going to correct these deficiencies when we move to repl.it\n"
   ]
  },
  {
   "cell_type": "markdown",
   "metadata": {},
   "source": [
    "### 3.0 Manipulating Shapes"
   ]
  },
  {
   "cell_type": "markdown",
   "metadata": {},
   "source": [
    "Shapes can be manipulated in various ways.  We are going to learn what it means and how to do it mathematically.  Finally we are going to create code that will do it programatically.\n",
    "\n",
    "+ Translation\n",
    "\n",
    "In geometry **translation** of a set of points of the plane, preserving the distances and directions between them, is equivalent to adding a fixed pair of numbers (a, b) to the Cartesian coordinates of every point in the set. That is, if the original coordinates of a point are (x, y), after the translation they will be\n",
    "\n",
    "    ( x′ , y′ ) = ( x + a, y + b )\n",
    "\n",
    "\n",
    "![](images/translation.svg)\n",
    "\n",
    "    Example: \n",
    "    to say the shape gets moved 30 Units in the \"X\" direction, and 40 Units in the \"Y\" direction, we can write:\n",
    "    translation written (x,y) -> (x+30,y+40)\n",
    "    Which says \"all the x and y coordinates become x+30 and y+40\"\n",
    "\n",
    " \n",
    "+ Scaling \n",
    "\n",
    "To **scale** a figure larger or smaller is equivalent to multiplying the Cartesian coordinates of every point by the same positive number m. If (x, y) are the coordinates of a point on the original figure, the corresponding point on the scaled figure has coordinates\n",
    "\n",
    "    ( x′ , y′ ) = ( m x , m y )\n",
    "    \n",
    "![](images/scaling.svg)\n",
    "\n",
    "If m is greater than 1, the figure becomes larger; if m is between 0 and 1, it becomes smaller. \n",
    "  \n",
    "+ Rotation\n",
    "\n",
    "To **rotate** a figure counterclockwise around the origin by some angle θ is equivalent to replacing every point with coordinates (x,y) by the point with coordinates (x',y'), where\n",
    "\n",
    "    x ′ = x cos ⁡ θ − y sin ⁡ θ \n",
    "    y ′ = x sin ⁡ θ + y cos ⁡ θ\n",
    "\n",
    "Thus:\n",
    "\n",
    "( x′ , y′ ) = ( ( x cos ⁡ θ − y sin ⁡ θ ) , ( x sin ⁡ θ + y cos ⁡ θ ) )\n",
    "\n",
    "![](images/rotation.gif)\n",
    "\n",
    "+ Reflection\n",
    "\n",
    "To **reflect** the point (x, y) in the Cartesian coordinate plane, then (−x, y) are the coordinates of its reflection across the second coordinate axis (the y-axis), as if that line were a mirror. Likewise, (x, −y) are the coordinates of its reflection across the first coordinate axis (the x-axis). \n",
    "\n",
    "![](images/reflection.svg)"
   ]
  },
  {
   "cell_type": "markdown",
   "metadata": {},
   "source": [
    "## Any Questions?\n",
    "---\n",
    "###### for any questions contact <hw_help@coolkidscodingschool.com>"
   ]
  }
 ],
 "metadata": {
  "kernelspec": {
   "display_name": "Python 3",
   "language": "python",
   "name": "python3"
  },
  "language_info": {
   "codemirror_mode": {
    "name": "ipython",
    "version": 3
   },
   "file_extension": ".py",
   "mimetype": "text/x-python",
   "name": "python",
   "nbconvert_exporter": "python",
   "pygments_lexer": "ipython3",
   "version": "3.6.5"
  }
 },
 "nbformat": 4,
 "nbformat_minor": 2
}