{
 "cells": [
  {
   "cell_type": "markdown",
   "metadata": {},
   "source": [
    "![](images/ckcslogo.png)\n",
    "\n",
    "# [Cool Kids Coding School](http://www.coolkidscodingschool.com) \n",
    "## Course: _Programming Python with Graphics_\n",
    "### Lesson 6: _Manipulating Shapes_\n",
    "---"
   ]
  },
  {
   "cell_type": "markdown",
   "metadata": {},
   "source": [
    "**Overview**\n",
    "+ Review previous lesson key points.\n",
    "+ Enhance our RenderShape function to draw more shapes.\n",
    "+ Identify the various manipulations we can do to a shape.\n",
    "+ Write the code to do each manipulation\n",
    "\n",
    "**Review previous lesson key points**\n",
    "\n",
    "In the previous lesson we created the definitions of two basic constructs that we will be using throughout this course.  We talked about the definition of a **Point** and a **LineSegment**.  We created a function **RenderShape** that can take a data structure and render the shape in the data structure."
   ]
  },
  {
   "cell_type": "markdown",
   "metadata": {},
   "source": [
    "### 1.0 Review"
   ]
  },
  {
   "cell_type": "markdown",
   "metadata": {},
   "source": [
    "In the last class we created two data structures, **Point** and **LineSegment**.  We discussed how a point held the x and y coordinates in a cartesian plane.  Then we discussed how a line segment was composed of two points.  "
   ]
  },
  {
   "cell_type": "code",
   "execution_count": 3,
   "metadata": {},
   "outputs": [
    {
     "name": "stdout",
     "output_type": "stream",
     "text": [
      "This is a point Point(x=1, y=5)\n",
      "This is my x coordinate 1\n",
      "This is my y coordinate 5\n"
     ]
    }
   ],
   "source": [
    "# Our definition of a Point has a x and y attribute\n",
    "import collections\n",
    "\n",
    "Point = collections.namedtuple('Point',['x','y'])\n",
    "my_point = Point(1,5)\n",
    "\n",
    "print('This is a point',my_point)\n",
    "print('This is my x coordinate', my_point.x)\n",
    "print('This is my y coordinate', my_point.y)"
   ]
  },
  {
   "cell_type": "code",
   "execution_count": 4,
   "metadata": {},
   "outputs": [
    {
     "name": "stdout",
     "output_type": "stream",
     "text": [
      "This is a line segment LineSegment(A=Point(x=0, y=0), B=Point(x=10, y=10))\n",
      "This is point A Point(x=0, y=0)\n",
      "This is point B Point(x=10, y=10)\n"
     ]
    }
   ],
   "source": [
    "# Our definition of a LineSegment has a point A and point B\n",
    "import collections\n",
    "\n",
    "LineSegment = collections.namedtuple('LineSegment',['A','B'])\n",
    "my_line = LineSegment(Point(0,0), Point(10,10))\n",
    "\n",
    "print('This is a line segment',my_line)\n",
    "print('This is point A', my_line.A)\n",
    "print('This is point B', my_line.B)"
   ]
  },
  {
   "cell_type": "markdown",
   "metadata": {},
   "source": [
    "#### Create a data structure that represents a simple shape\n",
    "\n",
    "A shape can be considered a collection of Points and/or LineSegments.  You can think of a simple drawing program as program that takes this collection and draws each object in the collection one after the other.\n"
   ]
  },
  {
   "cell_type": "code",
   "execution_count": 5,
   "metadata": {},
   "outputs": [],
   "source": [
    "# a data structure representing a shape\n",
    "my_shape = []\n",
    "\n",
    "# create 4 points\n",
    "pt1 = Point(0,0)\n",
    "pt2 = Point(100, 0)\n",
    "pt3 = Point(100, 100)\n",
    "pt4 = Point(0, 100)\n",
    "\n",
    "# create 4 line segments\n",
    "ls1 = LineSegment(pt1, pt2)\n",
    "ls2 = LineSegment(pt2, pt3)\n",
    "ls3 = LineSegment(pt3, pt4)\n",
    "ls4 = LineSegment(pt4, pt1)\n",
    "\n",
    "my_shape.append(ls1)\n",
    "my_shape.append(ls2)\n",
    "my_shape.append(ls3)\n",
    "my_shape.append(ls4)\n"
   ]
  },
  {
   "cell_type": "markdown",
   "metadata": {},
   "source": [
    "Finally we created a function called **RenderShape** that when given a data structure with line segments would draw the shape.\n",
    "\n",
    "```python\n",
    "# function to create a shape\n",
    "def RenderShape(shapecoll_):\n",
    "  for elt in shapecoll_:\n",
    "    turtle.goto(elt.A.x, elt.A.y)\n",
    "    turtle.goto(elt.B.x, elt.B.y)\n",
    "```"
   ]
  },
  {
   "cell_type": "markdown",
   "metadata": {},
   "source": [
    "### 2.0 Enhance RenderShape"
   ]
  },
  {
   "cell_type": "markdown",
   "metadata": {},
   "source": [
    "In this lesson we are going to start by enhancing the RenderShape function to draw more shapes.  \n",
    "\n",
    "This version of the function is fine to start out with, but does it have any shortcomings?  \n",
    "Can we make it better?\n",
    "\n",
    "+ what are assuming about the pen status?\n",
    "+ how do we add color?\n",
    "+ how do we draw shapes that are not defined by line segments?\n"
   ]
  },
  {
   "cell_type": "markdown",
   "metadata": {},
   "source": [
    "### 3.0 Manipulating Shapes"
   ]
  },
  {
   "cell_type": "markdown",
   "metadata": {},
   "source": [
    "\n",
    "We are going to spend the remaining time in this lesson practicing what we have just learned.  In the next lesson we will be going over geometric manipulations.  Specifically we will study:\n",
    "+ translation (moving an object to a new location)\n",
    "+ scaling (increasing or decreasing an objects size)\n",
    "+ rotation (turning an object)\n",
    "+ reflection (mirroring an object across an axis)\n",
    "+ shear (skewing an object)"
   ]
  },
  {
   "cell_type": "markdown",
   "metadata": {},
   "source": [
    "## Any Questions?\n",
    "---\n",
    "###### for any questions contact <hw_help@coolkidscodingschool.com>"
   ]
  }
 ],
 "metadata": {
  "kernelspec": {
   "display_name": "Python 3",
   "language": "python",
   "name": "python3"
  },
  "language_info": {
   "codemirror_mode": {
    "name": "ipython",
    "version": 3
   },
   "file_extension": ".py",
   "mimetype": "text/x-python",
   "name": "python",
   "nbconvert_exporter": "python",
   "pygments_lexer": "ipython3",
   "version": "3.6.4"
  }
 },
 "nbformat": 4,
 "nbformat_minor": 2
}
