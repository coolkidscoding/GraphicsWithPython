{
 "cells": [
  {
   "cell_type": "markdown",
   "metadata": {},
   "source": [
    "![](images/ckcslogo.png)\n",
    "\n",
    "# [Cool Kids Coding School](http://www.coolkidscodingschool.com) \n",
    "## Course: _Programming Python with Graphics_\n",
    "### Lesson 2: _Fundamentals Of Graphics_\n",
    "---"
   ]
  },
  {
   "cell_type": "markdown",
   "metadata": {},
   "source": [
    "**Overview**\n",
    "+ Review previous lesson key points.\n",
    "+ Discuss cartesian coordinate system.\n",
    "+ Discuss how we are going to represent points on the grid.\n",
    "+ Discuss line segments and how to measure them.\n",
    "+ Write code to uniformly create basic shapes.\n",
    "\n",
    "**Review previous lesson key points**\n",
    "\n",
    "In the previous lesson we began our exploration of Graphic Programming.  In this lesson we will be learning about the creation of geometrical shapes using Python.  In particular we will learn how to create and manipulate two dimensional geometrical shapes using code.  We will use the **turtle** package to provide a canvas and the commands that we will then manipulate with code.  \n",
    "\n",
    "**Cartesian coordinate system**\n",
    "\n",
    "A Cartesian coordinate system in two dimensions is defined by a pair of perpendicular lines (axes), a single unit of length for both axes, and an orientation for each axis. \n",
    "\n",
    "![coordinate system1](images/cartesiancoordinates.svg.png)\n",
    "\n",
    "The invention of Cartesian coordinates in the 17th century by René Descartes revolutionized mathematics by providing the first link between geometry and algebra. \n",
    "\n",
    "![descartes](images/descartes.jpg)\n",
    "\n",
    "Using the Cartesian coordinate system, geometric shapes (such as curves) can be described by equations: algebraic equations involving the coordinates of the points lying on the shape. For example, a circle of radius 2, centered at the origin of the plane, may be described as the set of all points whose coordinates x and y satisfy the equation x^2 + y^2 = 4. \n",
    "\n",
    "![coordinate system1](images/cartesiancoordinates_circle.svg.png)\n",
    "\n",
    "The point where the axes meet is taken as the origin for both.  For any point P, a line is drawn through P perpendicular to each axis, and the position where it meets the axis is interpreted as a number. The two numbers, in that chosen order, are the Cartesian coordinates of P.\n",
    "\n",
    "The coordinates are usually written as two numbers in parentheses, in X-axis, Y-axis order, separated by a comma, as in (3, −10.5).\n",
    "\n",
    "In mathematics, physics, and engineering, the first axis is usually defined or depicted as horizontal and oriented to the right, and the second axis is vertical and oriented upwards. (However, in some computer graphics contexts, the ordinate axis may be oriented downwards.) The origin is often labeled O, and the two coordinates are often denoted by the letters X and Y, or x and y. The axes may then be referred to as the X-axis and Y-axis. The choices of letters come from the original convention, which is to use the latter part of the alphabet to indicate unknown values. The first part of the alphabet was used to designate known values.\n",
    "\n",
    "The two axes divide the plane into four right angles, called quadrants. The quadrants may be named or numbered in various ways, but the quadrant where all coordinates are positive is usually called the first quadrant.\n",
    "\n",
    "If the coordinates of a point are (x, y), then its distances from the X-axis and from the Y-axis are |y| and |x|, respectively; where |...| denotes the absolute value of a number. \n",
    "\n",
    "**Points on the Cartesian Grid**\n",
    "\n",
    "The coordinates system used by **turtle** is the cartesian coordinate system we just discussed.  The simplest way for us to represent a point would be as a tuple as a tuple with two elements.  If you recall this is a data structure we learned about in the **Introductory Python** course."
   ]
  },
  {
   "cell_type": "code",
   "execution_count": 3,
   "metadata": {},
   "outputs": [
    {
     "name": "stdout",
     "output_type": "stream",
     "text": [
      "This is my point (1, 4)\n",
      "This is my x coordinate 1\n",
      "This is my y coordinate 4\n"
     ]
    }
   ],
   "source": [
    "my_point = (1,4)\n",
    "\n",
    "print('This is my point', my_point)\n",
    "print('This is my x coordinate', my_point[0])\n",
    "print('This is my y coordinate', my_point[1])"
   ]
  },
  {
   "cell_type": "markdown",
   "metadata": {},
   "source": [
    "This representation is a little troubling as we need to refer to the X and Y coordinate using element an element index.  It would much better if we could access these X and Y cooridinates using more appropriate names.\n",
    "\n",
    "Luckily for us Python has a way to do this.  It's called a **namedtuple** from the **collection** package."
   ]
  },
  {
   "cell_type": "code",
   "execution_count": 2,
   "metadata": {},
   "outputs": [
    {
     "name": "stdout",
     "output_type": "stream",
     "text": [
      "This is the new and improved point Point(x=1, y=5)\n",
      "This is my x coordinate 1\n",
      "This is my y coordinate 5\n"
     ]
    }
   ],
   "source": [
    "import collections\n",
    "\n",
    "Point = collections.namedtuple('Point',['x','y'])\n",
    "my_point = Point(1,5)\n",
    "\n",
    "print('This is the new and improved point',my_point)\n",
    "print('This is my x coordinate', my_point.x)\n",
    "print('This is my y coordinate', my_point.y)"
   ]
  },
  {
   "cell_type": "markdown",
   "metadata": {},
   "source": [
    "In this course a point in Python will represent a point on our **turtle** canvas.  A point on pur canvase can also be thought of as the smallest graphical element we will display.\n",
    "\n",
    "In computer graphics this smallest graphical element is also called a **pixel**, or **picture element** and it is the smallest controllable element of a picture represented on the screen.\n",
    "\n",
    "![pixel](images/pixel.png)\n",
    "\n",
    "We will use the terms pixel or point interchangeably."
   ]
  },
  {
   "cell_type": "markdown",
   "metadata": {},
   "source": [
    "**Creating Line Segments**\n",
    "\n",
    "Now that we have represented a point, taking that one step further we would need to represent line segments.  In geometry, a line segment is a part of a line that is bounded by two distinct end points, and contains every point on the line between its endpoints. \n",
    "\n",
    "![line_segment](images/line_segment.svg.png)\n",
    "\n",
    "Given a line segment, one thing that I am sure will will have to do is measure this line segments length.  There is a formula that is derived from the Pythagorean Theorem that allows us to do this.\n",
    "\n",
    "The distance between two points of the plane with Cartesian coordinates ( x1 , y1 ) and ( x2 , y2 ) is\n",
    "\n",
    "\\begin{equation*}\n",
    "d={\\sqrt {(x_{2}-x_{1})^{2}+(y_{2}-y_{1})^{2}}}.\n",
    "\\end{equation*}"
   ]
  },
  {
   "cell_type": "code",
   "execution_count": 8,
   "metadata": {},
   "outputs": [
    {
     "name": "stdout",
     "output_type": "stream",
     "text": [
      "The distance between Point(x=1, y=5)  and point2 Point(x=5, y=1)  is 5.656854249492381\n"
     ]
    }
   ],
   "source": [
    "import math\n",
    "\n",
    "point1 = Point(1,5)\n",
    "point2 = Point(5,1)\n",
    "\n",
    "distance = math.sqrt((point2.x - point1.x) ** 2 + (point2.y - point1.y) ** 2)\n",
    "\n",
    "print('The distance between', point1, ' and point2', point2, ' is', distance)"
   ]
  },
  {
   "cell_type": "markdown",
   "metadata": {},
   "source": [
    "**Data Structures to Represent Shapes**\n",
    "\n"
   ]
  },
  {
   "cell_type": "markdown",
   "metadata": {},
   "source": [
    "There are two types of geometrical shapes we are going to be working with.  Shapes that are defined by a collection of line segments and shapes that are defined by a collaction of points.  Can you name some shapes that are defined by each?\n",
    "\n",
    "We are going to initially talk about shapes that are defined by line segments.  Shapes likes squares, triangles, polygons, etc.\n",
    "\n",
    "For these shapes we are going to define the following."
   ]
  },
  {
   "cell_type": "code",
   "execution_count": 8,
   "metadata": {},
   "outputs": [
    {
     "name": "stdout",
     "output_type": "stream",
     "text": [
      "LineSegment(A=Point(x=1, y=5), B=Point(x=5, y=1))\n",
      "Point(x=1, y=5) Point(x=5, y=1)\n",
      "1 5\n",
      "5 1\n"
     ]
    }
   ],
   "source": [
    "LineSegment = collections.namedtuple('LineSegment', ['A','B'])\n",
    "my_line_segment = LineSegment(Point(1,5), Point(5,1))\n",
    "\n",
    "print(my_line_segment)\n",
    "print(my_line_segment.A, my_line_segment.B)\n",
    "print(my_line_segment.A.x, my_line_segment.A.y)\n",
    "print(my_line_segment.B.x, my_line_segment.B.y)"
   ]
  },
  {
   "cell_type": "markdown",
   "metadata": {},
   "source": [
    "## Any Questions?\n",
    "---\n",
    "###### for any questions contact <hw_help@coolkidscodingschool.com>"
   ]
  }
 ],
 "metadata": {
  "kernelspec": {
   "display_name": "Python 3",
   "language": "python",
   "name": "python3"
  },
  "language_info": {
   "codemirror_mode": {
    "name": "ipython",
    "version": 3
   },
   "file_extension": ".py",
   "mimetype": "text/x-python",
   "name": "python",
   "nbconvert_exporter": "python",
   "pygments_lexer": "ipython3",
   "version": "3.6.4"
  }
 },
 "nbformat": 4,
 "nbformat_minor": 2
}
