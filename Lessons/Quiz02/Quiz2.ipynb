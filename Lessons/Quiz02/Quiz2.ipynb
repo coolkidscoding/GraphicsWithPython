{
 "cells": [
  {
   "cell_type": "markdown",
   "metadata": {},
   "source": [
    "<div>\n",
    "\n",
    "<p>\n",
    "<img align=left src=\"images/ckcslogo.png\">\n",
    "</p>\n",
    "\n",
    "---\n",
    "\n",
    "<p>\n",
    "<H1 align=left><a href=\"http://www.coolkidscodingschool.com\">Cool Kids Coding School</a></H1>\n",
    "<H2 align=left>Course: <strong>Graphics Programming</strong></H1>\n",
    "<H3 align=left>Quiz 2: <strong></strong></H3>\n",
    "</p>\n",
    "\n",
    "</div>\n",
    "\n",
    "---"
   ]
  },
  {
   "cell_type": "markdown",
   "metadata": {},
   "source": [
    "## Question 1\n",
    "\n",
    "Write the code that will add all the numbers from 0-100.  What is that sum?"
   ]
  },
  {
   "cell_type": "code",
   "execution_count": null,
   "metadata": {},
   "outputs": [],
   "source": []
  },
  {
   "cell_type": "markdown",
   "metadata": {},
   "source": [
    "## Question 2\n",
    "\n",
    "Write the code that will add all the even numbers from 0-100.  What is the sum?"
   ]
  },
  {
   "cell_type": "code",
   "execution_count": null,
   "metadata": {},
   "outputs": [],
   "source": []
  },
  {
   "cell_type": "markdown",
   "metadata": {},
   "source": [
    "## Question 3\n",
    "\n",
    "Write the function that will add all the prime numbers between 2-100.  What is the sum?"
   ]
  },
  {
   "cell_type": "code",
   "execution_count": null,
   "metadata": {},
   "outputs": [],
   "source": []
  },
  {
   "cell_type": "markdown",
   "metadata": {},
   "source": [
    "## Question 4\n",
    "\n",
    "Create a function called Add that will add two numbers and return the result.\n",
    "Create a function called Subtract that subtract two numbers and return the result.\n",
    "Create a function called Divide that will divide two numbers and return the result.\n",
    "Create a function called Multiple that will divide two numbers and return the result.\n",
    "\n",
    "Test your functions and make sure they return the correct result on the following:\n",
    "\n",
    "Add(10,3)\n",
    "Subtract(3,0)\n",
    "Divide(128, 8)\n",
    "Multiply(16, 34)"
   ]
  },
  {
   "cell_type": "code",
   "execution_count": null,
   "metadata": {},
   "outputs": [],
   "source": []
  },
  {
   "cell_type": "markdown",
   "metadata": {},
   "source": [
    "## Question 5\n",
    "\n",
    "Use the functions you defined in the previous question to solve this equation.  Do not use operators directly.\n",
    "\n",
    "5 + 6 - 24 * 16 / 32"
   ]
  },
  {
   "cell_type": "code",
   "execution_count": null,
   "metadata": {},
   "outputs": [],
   "source": []
  },
  {
   "cell_type": "markdown",
   "metadata": {},
   "source": [
    "## Question 6\n",
    "\n",
    "Using the sentence below, create an encoder function that will the sentence below into cipher text in the following way:\n",
    "\n",
    "+ 'a' -> 'e'\n",
    "+ 'e' -> 'i'\n",
    "+ 'i' -> 'o'\n",
    "+ 'o' -> 'u'\n",
    "+ 'u' -> 'a'\n"
   ]
  },
  {
   "cell_type": "code",
   "execution_count": 1,
   "metadata": {},
   "outputs": [],
   "source": [
    "sentence = 'the quick brown fox jumps over the lazy moon'\n"
   ]
  },
  {
   "cell_type": "markdown",
   "metadata": {},
   "source": [
    "## Question 7\n",
    "\n",
    "Using the output from question 6, create a decoder function that will take it and convert it back to the original sentence"
   ]
  },
  {
   "cell_type": "code",
   "execution_count": null,
   "metadata": {},
   "outputs": [],
   "source": []
  },
  {
   "cell_type": "markdown",
   "metadata": {},
   "source": [
    "## Any Questions?\n",
    "---\n",
    "###### for any questions contact <hw_help@coolkidscodingschool.com>"
   ]
  }
 ],
 "metadata": {
  "kernelspec": {
   "display_name": "Python 3",
   "language": "python",
   "name": "python3"
  },
  "language_info": {
   "codemirror_mode": {
    "name": "ipython",
    "version": 3
   },
   "file_extension": ".py",
   "mimetype": "text/x-python",
   "name": "python",
   "nbconvert_exporter": "python",
   "pygments_lexer": "ipython3",
   "version": "3.6.5"
  }
 },
 "nbformat": 4,
 "nbformat_minor": 2
}